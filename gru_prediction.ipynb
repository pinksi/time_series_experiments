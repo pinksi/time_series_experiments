{
  "nbformat": 4,
  "nbformat_minor": 0,
  "metadata": {
    "colab": {
      "name": "gru_prediction.ipynb",
      "provenance": []
    },
    "kernelspec": {
      "name": "python3",
      "display_name": "Python 3"
    },
    "language_info": {
      "name": "python"
    },
    "accelerator": "GPU"
  },
  "cells": [
    {
      "cell_type": "markdown",
      "source": [
        "***An experiment to predict the gage height of one of the river with site_id=07377754 of four rivers of comite river. The experiment uses the time-series data of gage height values for these rivers and predict for the downstream river. ***"
      ],
      "metadata": {
        "id": "9m2cSgxsr8VY"
      }
    },
    {
      "cell_type": "code",
      "execution_count": 1,
      "metadata": {
        "id": "hWpOfNlwQPxG"
      },
      "outputs": [],
      "source": [
        "import os\n",
        "import time\n",
        "\n",
        "import numpy as np\n",
        "import pandas as pd\n",
        "\n",
        "import torch\n",
        "import torch.nn as nn\n",
        "from torch.utils.data import TensorDataset, DataLoader\n",
        "\n",
        "from tqdm import tqdm_notebook\n",
        "from sklearn.preprocessing import MinMaxScaler"
      ]
    },
    {
      "cell_type": "code",
      "source": [
        "## Trying out GRU for gage height prediction\n"
      ],
      "metadata": {
        "id": "ONB1B44wQmPJ"
      },
      "execution_count": null,
      "outputs": []
    },
    {
      "cell_type": "code",
      "source": [
        "df = pd.read_csv(\"comite_river_dataset_2017_2018.csv\", parse_dates=[0])"
      ],
      "metadata": {
        "id": "93TO-4MpQSWb"
      },
      "execution_count": 3,
      "outputs": []
    },
    {
      "cell_type": "code",
      "source": [
        "df.head()"
      ],
      "metadata": {
        "colab": {
          "base_uri": "https://localhost:8080/",
          "height": 206
        },
        "id": "-v2Dmoz1b-mw",
        "outputId": "d73ccde2-04b3-460b-8e1b-7f2a15a1f0af"
      },
      "execution_count": 4,
      "outputs": [
        {
          "output_type": "execute_result",
          "data": {
            "text/html": [
              "\n",
              "  <div id=\"df-09889ab3-8993-4383-9e49-85a677f8bcbd\">\n",
              "    <div class=\"colab-df-container\">\n",
              "      <div>\n",
              "<style scoped>\n",
              "    .dataframe tbody tr th:only-of-type {\n",
              "        vertical-align: middle;\n",
              "    }\n",
              "\n",
              "    .dataframe tbody tr th {\n",
              "        vertical-align: top;\n",
              "    }\n",
              "\n",
              "    .dataframe thead th {\n",
              "        text-align: right;\n",
              "    }\n",
              "</style>\n",
              "<table border=\"1\" class=\"dataframe\">\n",
              "  <thead>\n",
              "    <tr style=\"text-align: right;\">\n",
              "      <th></th>\n",
              "      <th>Date/Time</th>\n",
              "      <th>gage_height_ft_sensor_07377600</th>\n",
              "      <th>gage_height_ft_sensor_07377500</th>\n",
              "      <th>gage_height_ft_sensor_07377754</th>\n",
              "      <th>gage_height_ft_sensor_07377750</th>\n",
              "    </tr>\n",
              "  </thead>\n",
              "  <tbody>\n",
              "    <tr>\n",
              "      <th>0</th>\n",
              "      <td>2017-01-04 13:30:00-06:00</td>\n",
              "      <td>18.58</td>\n",
              "      <td>4.880</td>\n",
              "      <td>6.11</td>\n",
              "      <td>8.29</td>\n",
              "    </tr>\n",
              "    <tr>\n",
              "      <th>1</th>\n",
              "      <td>2017-01-04 13:45:00-06:00</td>\n",
              "      <td>18.57</td>\n",
              "      <td>4.855</td>\n",
              "      <td>6.10</td>\n",
              "      <td>8.28</td>\n",
              "    </tr>\n",
              "    <tr>\n",
              "      <th>2</th>\n",
              "      <td>2017-01-04 14:00:00-06:00</td>\n",
              "      <td>18.54</td>\n",
              "      <td>4.830</td>\n",
              "      <td>6.11</td>\n",
              "      <td>8.26</td>\n",
              "    </tr>\n",
              "    <tr>\n",
              "      <th>3</th>\n",
              "      <td>2017-01-04 14:15:00-06:00</td>\n",
              "      <td>18.52</td>\n",
              "      <td>4.800</td>\n",
              "      <td>6.07</td>\n",
              "      <td>8.25</td>\n",
              "    </tr>\n",
              "    <tr>\n",
              "      <th>4</th>\n",
              "      <td>2017-01-04 14:30:00-06:00</td>\n",
              "      <td>18.50</td>\n",
              "      <td>4.770</td>\n",
              "      <td>6.08</td>\n",
              "      <td>8.23</td>\n",
              "    </tr>\n",
              "  </tbody>\n",
              "</table>\n",
              "</div>\n",
              "      <button class=\"colab-df-convert\" onclick=\"convertToInteractive('df-09889ab3-8993-4383-9e49-85a677f8bcbd')\"\n",
              "              title=\"Convert this dataframe to an interactive table.\"\n",
              "              style=\"display:none;\">\n",
              "        \n",
              "  <svg xmlns=\"http://www.w3.org/2000/svg\" height=\"24px\"viewBox=\"0 0 24 24\"\n",
              "       width=\"24px\">\n",
              "    <path d=\"M0 0h24v24H0V0z\" fill=\"none\"/>\n",
              "    <path d=\"M18.56 5.44l.94 2.06.94-2.06 2.06-.94-2.06-.94-.94-2.06-.94 2.06-2.06.94zm-11 1L8.5 8.5l.94-2.06 2.06-.94-2.06-.94L8.5 2.5l-.94 2.06-2.06.94zm10 10l.94 2.06.94-2.06 2.06-.94-2.06-.94-.94-2.06-.94 2.06-2.06.94z\"/><path d=\"M17.41 7.96l-1.37-1.37c-.4-.4-.92-.59-1.43-.59-.52 0-1.04.2-1.43.59L10.3 9.45l-7.72 7.72c-.78.78-.78 2.05 0 2.83L4 21.41c.39.39.9.59 1.41.59.51 0 1.02-.2 1.41-.59l7.78-7.78 2.81-2.81c.8-.78.8-2.07 0-2.86zM5.41 20L4 18.59l7.72-7.72 1.47 1.35L5.41 20z\"/>\n",
              "  </svg>\n",
              "      </button>\n",
              "      \n",
              "  <style>\n",
              "    .colab-df-container {\n",
              "      display:flex;\n",
              "      flex-wrap:wrap;\n",
              "      gap: 12px;\n",
              "    }\n",
              "\n",
              "    .colab-df-convert {\n",
              "      background-color: #E8F0FE;\n",
              "      border: none;\n",
              "      border-radius: 50%;\n",
              "      cursor: pointer;\n",
              "      display: none;\n",
              "      fill: #1967D2;\n",
              "      height: 32px;\n",
              "      padding: 0 0 0 0;\n",
              "      width: 32px;\n",
              "    }\n",
              "\n",
              "    .colab-df-convert:hover {\n",
              "      background-color: #E2EBFA;\n",
              "      box-shadow: 0px 1px 2px rgba(60, 64, 67, 0.3), 0px 1px 3px 1px rgba(60, 64, 67, 0.15);\n",
              "      fill: #174EA6;\n",
              "    }\n",
              "\n",
              "    [theme=dark] .colab-df-convert {\n",
              "      background-color: #3B4455;\n",
              "      fill: #D2E3FC;\n",
              "    }\n",
              "\n",
              "    [theme=dark] .colab-df-convert:hover {\n",
              "      background-color: #434B5C;\n",
              "      box-shadow: 0px 1px 3px 1px rgba(0, 0, 0, 0.15);\n",
              "      filter: drop-shadow(0px 1px 2px rgba(0, 0, 0, 0.3));\n",
              "      fill: #FFFFFF;\n",
              "    }\n",
              "  </style>\n",
              "\n",
              "      <script>\n",
              "        const buttonEl =\n",
              "          document.querySelector('#df-09889ab3-8993-4383-9e49-85a677f8bcbd button.colab-df-convert');\n",
              "        buttonEl.style.display =\n",
              "          google.colab.kernel.accessAllowed ? 'block' : 'none';\n",
              "\n",
              "        async function convertToInteractive(key) {\n",
              "          const element = document.querySelector('#df-09889ab3-8993-4383-9e49-85a677f8bcbd');\n",
              "          const dataTable =\n",
              "            await google.colab.kernel.invokeFunction('convertToInteractive',\n",
              "                                                     [key], {});\n",
              "          if (!dataTable) return;\n",
              "\n",
              "          const docLinkHtml = 'Like what you see? Visit the ' +\n",
              "            '<a target=\"_blank\" href=https://colab.research.google.com/notebooks/data_table.ipynb>data table notebook</a>'\n",
              "            + ' to learn more about interactive tables.';\n",
              "          element.innerHTML = '';\n",
              "          dataTable['output_type'] = 'display_data';\n",
              "          await google.colab.output.renderOutput(dataTable, element);\n",
              "          const docLink = document.createElement('div');\n",
              "          docLink.innerHTML = docLinkHtml;\n",
              "          element.appendChild(docLink);\n",
              "        }\n",
              "      </script>\n",
              "    </div>\n",
              "  </div>\n",
              "  "
            ],
            "text/plain": [
              "                  Date/Time  ...  gage_height_ft_sensor_07377750\n",
              "0 2017-01-04 13:30:00-06:00  ...                            8.29\n",
              "1 2017-01-04 13:45:00-06:00  ...                            8.28\n",
              "2 2017-01-04 14:00:00-06:00  ...                            8.26\n",
              "3 2017-01-04 14:15:00-06:00  ...                            8.25\n",
              "4 2017-01-04 14:30:00-06:00  ...                            8.23\n",
              "\n",
              "[5 rows x 5 columns]"
            ]
          },
          "metadata": {},
          "execution_count": 4
        }
      ]
    },
    {
      "cell_type": "code",
      "source": [
        "df.shape"
      ],
      "metadata": {
        "colab": {
          "base_uri": "https://localhost:8080/"
        },
        "id": "YA4GuglzdhDb",
        "outputId": "3cc7cbfc-1684-4b4c-bd0a-e7e8da28b584"
      },
      "execution_count": 10,
      "outputs": [
        {
          "output_type": "execute_result",
          "data": {
            "text/plain": [
              "(69736, 5)"
            ]
          },
          "metadata": {},
          "execution_count": 10
        }
      ]
    },
    {
      "cell_type": "code",
      "source": [
        "# split data into train/test\n",
        "test_portion = int(0.1 * len(df))\n",
        "train_df = df[:-test_portion]\n",
        "test_df = df[-test_portion:]"
      ],
      "metadata": {
        "id": "Xk2891JHQl7w"
      },
      "execution_count": 5,
      "outputs": []
    },
    {
      "cell_type": "code",
      "source": [
        "test_df.head()"
      ],
      "metadata": {
        "colab": {
          "base_uri": "https://localhost:8080/",
          "height": 206
        },
        "id": "7X-XrP9FDgcG",
        "outputId": "00595751-ff50-4631-923c-e71edebeb756"
      },
      "execution_count": 6,
      "outputs": [
        {
          "output_type": "execute_result",
          "data": {
            "text/html": [
              "\n",
              "  <div id=\"df-4295fde2-8f29-4c67-a4da-d2a2796613c0\">\n",
              "    <div class=\"colab-df-container\">\n",
              "      <div>\n",
              "<style scoped>\n",
              "    .dataframe tbody tr th:only-of-type {\n",
              "        vertical-align: middle;\n",
              "    }\n",
              "\n",
              "    .dataframe tbody tr th {\n",
              "        vertical-align: top;\n",
              "    }\n",
              "\n",
              "    .dataframe thead th {\n",
              "        text-align: right;\n",
              "    }\n",
              "</style>\n",
              "<table border=\"1\" class=\"dataframe\">\n",
              "  <thead>\n",
              "    <tr style=\"text-align: right;\">\n",
              "      <th></th>\n",
              "      <th>Date/Time</th>\n",
              "      <th>gage_height_ft_sensor_07377600</th>\n",
              "      <th>gage_height_ft_sensor_07377500</th>\n",
              "      <th>gage_height_ft_sensor_07377754</th>\n",
              "      <th>gage_height_ft_sensor_07377750</th>\n",
              "    </tr>\n",
              "  </thead>\n",
              "  <tbody>\n",
              "    <tr>\n",
              "      <th>62763</th>\n",
              "      <td>2018-10-20 08:30:00-06:00</td>\n",
              "      <td>13.34</td>\n",
              "      <td>-0.34</td>\n",
              "      <td>1.34</td>\n",
              "      <td>2.9</td>\n",
              "    </tr>\n",
              "    <tr>\n",
              "      <th>62764</th>\n",
              "      <td>2018-10-20 08:45:00-06:00</td>\n",
              "      <td>13.34</td>\n",
              "      <td>-0.34</td>\n",
              "      <td>1.34</td>\n",
              "      <td>2.9</td>\n",
              "    </tr>\n",
              "    <tr>\n",
              "      <th>62765</th>\n",
              "      <td>2018-10-20 09:00:00-06:00</td>\n",
              "      <td>13.34</td>\n",
              "      <td>-0.34</td>\n",
              "      <td>1.34</td>\n",
              "      <td>2.9</td>\n",
              "    </tr>\n",
              "    <tr>\n",
              "      <th>62766</th>\n",
              "      <td>2018-10-20 09:15:00-06:00</td>\n",
              "      <td>13.34</td>\n",
              "      <td>-0.34</td>\n",
              "      <td>1.34</td>\n",
              "      <td>2.9</td>\n",
              "    </tr>\n",
              "    <tr>\n",
              "      <th>62767</th>\n",
              "      <td>2018-10-20 09:30:00-06:00</td>\n",
              "      <td>13.34</td>\n",
              "      <td>-0.34</td>\n",
              "      <td>1.34</td>\n",
              "      <td>2.9</td>\n",
              "    </tr>\n",
              "  </tbody>\n",
              "</table>\n",
              "</div>\n",
              "      <button class=\"colab-df-convert\" onclick=\"convertToInteractive('df-4295fde2-8f29-4c67-a4da-d2a2796613c0')\"\n",
              "              title=\"Convert this dataframe to an interactive table.\"\n",
              "              style=\"display:none;\">\n",
              "        \n",
              "  <svg xmlns=\"http://www.w3.org/2000/svg\" height=\"24px\"viewBox=\"0 0 24 24\"\n",
              "       width=\"24px\">\n",
              "    <path d=\"M0 0h24v24H0V0z\" fill=\"none\"/>\n",
              "    <path d=\"M18.56 5.44l.94 2.06.94-2.06 2.06-.94-2.06-.94-.94-2.06-.94 2.06-2.06.94zm-11 1L8.5 8.5l.94-2.06 2.06-.94-2.06-.94L8.5 2.5l-.94 2.06-2.06.94zm10 10l.94 2.06.94-2.06 2.06-.94-2.06-.94-.94-2.06-.94 2.06-2.06.94z\"/><path d=\"M17.41 7.96l-1.37-1.37c-.4-.4-.92-.59-1.43-.59-.52 0-1.04.2-1.43.59L10.3 9.45l-7.72 7.72c-.78.78-.78 2.05 0 2.83L4 21.41c.39.39.9.59 1.41.59.51 0 1.02-.2 1.41-.59l7.78-7.78 2.81-2.81c.8-.78.8-2.07 0-2.86zM5.41 20L4 18.59l7.72-7.72 1.47 1.35L5.41 20z\"/>\n",
              "  </svg>\n",
              "      </button>\n",
              "      \n",
              "  <style>\n",
              "    .colab-df-container {\n",
              "      display:flex;\n",
              "      flex-wrap:wrap;\n",
              "      gap: 12px;\n",
              "    }\n",
              "\n",
              "    .colab-df-convert {\n",
              "      background-color: #E8F0FE;\n",
              "      border: none;\n",
              "      border-radius: 50%;\n",
              "      cursor: pointer;\n",
              "      display: none;\n",
              "      fill: #1967D2;\n",
              "      height: 32px;\n",
              "      padding: 0 0 0 0;\n",
              "      width: 32px;\n",
              "    }\n",
              "\n",
              "    .colab-df-convert:hover {\n",
              "      background-color: #E2EBFA;\n",
              "      box-shadow: 0px 1px 2px rgba(60, 64, 67, 0.3), 0px 1px 3px 1px rgba(60, 64, 67, 0.15);\n",
              "      fill: #174EA6;\n",
              "    }\n",
              "\n",
              "    [theme=dark] .colab-df-convert {\n",
              "      background-color: #3B4455;\n",
              "      fill: #D2E3FC;\n",
              "    }\n",
              "\n",
              "    [theme=dark] .colab-df-convert:hover {\n",
              "      background-color: #434B5C;\n",
              "      box-shadow: 0px 1px 3px 1px rgba(0, 0, 0, 0.15);\n",
              "      filter: drop-shadow(0px 1px 2px rgba(0, 0, 0, 0.3));\n",
              "      fill: #FFFFFF;\n",
              "    }\n",
              "  </style>\n",
              "\n",
              "      <script>\n",
              "        const buttonEl =\n",
              "          document.querySelector('#df-4295fde2-8f29-4c67-a4da-d2a2796613c0 button.colab-df-convert');\n",
              "        buttonEl.style.display =\n",
              "          google.colab.kernel.accessAllowed ? 'block' : 'none';\n",
              "\n",
              "        async function convertToInteractive(key) {\n",
              "          const element = document.querySelector('#df-4295fde2-8f29-4c67-a4da-d2a2796613c0');\n",
              "          const dataTable =\n",
              "            await google.colab.kernel.invokeFunction('convertToInteractive',\n",
              "                                                     [key], {});\n",
              "          if (!dataTable) return;\n",
              "\n",
              "          const docLinkHtml = 'Like what you see? Visit the ' +\n",
              "            '<a target=\"_blank\" href=https://colab.research.google.com/notebooks/data_table.ipynb>data table notebook</a>'\n",
              "            + ' to learn more about interactive tables.';\n",
              "          element.innerHTML = '';\n",
              "          dataTable['output_type'] = 'display_data';\n",
              "          await google.colab.output.renderOutput(dataTable, element);\n",
              "          const docLink = document.createElement('div');\n",
              "          docLink.innerHTML = docLinkHtml;\n",
              "          element.appendChild(docLink);\n",
              "        }\n",
              "      </script>\n",
              "    </div>\n",
              "  </div>\n",
              "  "
            ],
            "text/plain": [
              "                      Date/Time  ...  gage_height_ft_sensor_07377750\n",
              "62763 2018-10-20 08:30:00-06:00  ...                             2.9\n",
              "62764 2018-10-20 08:45:00-06:00  ...                             2.9\n",
              "62765 2018-10-20 09:00:00-06:00  ...                             2.9\n",
              "62766 2018-10-20 09:15:00-06:00  ...                             2.9\n",
              "62767 2018-10-20 09:30:00-06:00  ...                             2.9\n",
              "\n",
              "[5 rows x 5 columns]"
            ]
          },
          "metadata": {},
          "execution_count": 6
        }
      ]
    },
    {
      "cell_type": "code",
      "source": [
        "sc = MinMaxScaler()\n",
        "label_sc = MinMaxScaler()\n",
        "\n",
        "def get_inputs_and_labels(df):\n",
        "  try:\n",
        "    df = df.sort_values(\"Date/Time\").drop(\"Date/Time\",axis=1)\n",
        "  except KeyError:\n",
        "    df = df.drop(\"Unnamed: 0\", axis=1)\n",
        "\n",
        "  data = sc.fit_transform(df.values)\n",
        "  # getting the scale for labels so that the output can be re-scaled to actual value for evaluation\n",
        "  label_sc.fit(df.iloc[:, 2].values.reshape(-1,1)) # prediction labels for gage_height_ft_sensor_07377754\n",
        "\n",
        "  # define lookback period and split inputs/labels \n",
        "  lookback = 90 #4\n",
        "  inputs = np.zeros((len(data)-lookback, lookback, data.shape[1]))\n",
        "  labels = np.zeros(len(data)-lookback)\n",
        "\n",
        "  # fill the variables with data\n",
        "  for i in range(lookback, len(df)):\n",
        "      inputs[i-lookback] = data[i-lookback:i]\n",
        "      labels[i-lookback] = data[i, 2]\n",
        "  inputs = inputs.reshape(-1, lookback, df.shape[1])\n",
        "  labels = labels.reshape(-1,1)\n",
        "  return inputs, labels\n",
        "\n",
        "  # # split data into train/test\n",
        "  # test_portion = int(0.1 * len(inputs))\n",
        "  # train_x = inputs[:-test_portion]\n",
        "  # train_y = labels[:-test_portion]\n",
        "\n",
        "  # test_x = inputs[-test_portion:]\n",
        "  # test_y = labels[-test_portion:]"
      ],
      "metadata": {
        "id": "UXFTKvygQkRh"
      },
      "execution_count": 11,
      "outputs": []
    },
    {
      "cell_type": "code",
      "source": [
        "train_x, train_y = get_inputs_and_labels(train_df)\n",
        "test_x, test_y = get_inputs_and_labels(test_df)"
      ],
      "metadata": {
        "id": "rpdTLg1XQgm0"
      },
      "execution_count": 12,
      "outputs": []
    },
    {
      "cell_type": "code",
      "source": [
        "# using pytorch for splitting data in batches and shuffling\n",
        "batch_size = 1024\n",
        "train_data = TensorDataset(torch.from_numpy(train_x), torch.from_numpy(train_y))\n",
        "train_loader = DataLoader(train_data, shuffle=True, batch_size=batch_size, drop_last=True)\n",
        "\n",
        "# torch.cuda.is_available() checks and returns a Boolean True if a GPU is available, else it'll return False\n",
        "is_cuda = torch.cuda.is_available()\n",
        "\n",
        "# If we have a GPU available, we'll set our device to GPU. We'll use this device variable later in our code.\n",
        "if is_cuda:\n",
        "    device = torch.device(\"cuda\")\n",
        "else:\n",
        "    device = torch.device(\"cpu\")"
      ],
      "metadata": {
        "id": "5g2GvnA7QniP"
      },
      "execution_count": 14,
      "outputs": []
    },
    {
      "cell_type": "code",
      "source": [
        "class GRUNet(nn.Module):\n",
        "    def __init__(self, input_dim, hidden_dim, output_dim, n_layers, drop_prob=0.2):\n",
        "        super(GRUNet, self).__init__()\n",
        "        self.hidden_dim = hidden_dim\n",
        "        self.n_layers = n_layers\n",
        "        \n",
        "        self.gru = nn.GRU(input_dim, hidden_dim, n_layers, batch_first=True, dropout=drop_prob)\n",
        "        self.fc = nn.Linear(hidden_dim, output_dim)\n",
        "        self.relu = nn.ReLU()\n",
        "        \n",
        "    def forward(self, x, h):\n",
        "        out, h = self.gru(x, h)\n",
        "        out = self.fc(self.relu(out[:, -1]))\n",
        "        return out, h\n",
        "    \n",
        "    def init_hidden(self, batch_size):\n",
        "        weight = next(self.parameters()).data\n",
        "        hidden = weight.new(self.n_layers, batch_size, self.hidden_dim).zero_().to(device)\n",
        "        return hidden\n",
        "    \n",
        "class LSTMNet(nn.Module):\n",
        "    def __init__(self, input_dim, hidden_dim, output_dim, n_layers, drop_prob=0.2):\n",
        "        super(LSTMNet, self).__init__()\n",
        "        self.hidden_dim = hidden_dim\n",
        "        self.n_layers = n_layers\n",
        "        \n",
        "        self.lstm = nn.LSTM(input_dim, hidden_dim, n_layers, batch_first=True, dropout=drop_prob)\n",
        "        self.fc = nn.Linear(hidden_dim, output_dim)\n",
        "        self.relu = nn.ReLU()\n",
        "        \n",
        "    def forward(self, x, h):\n",
        "        out, h = self.lstm(x, h)\n",
        "        out = self.fc(self.relu(out[:, -1]))\n",
        "        return out, h\n",
        "    \n",
        "    def init_hidden(self, batch_size):\n",
        "        weight = next(self.parameters()).data\n",
        "        hidden = (weight.new(self.n_layers, batch_size, self.hidden_dim).zero_().to(device),\n",
        "                 weight.new(self.n_layers, batch_size, self.hidden_dim).zero_().to(device))\n",
        "        return hidden\n",
        "        "
      ],
      "metadata": {
        "id": "R_dFB63cQsbW"
      },
      "execution_count": 15,
      "outputs": []
    },
    {
      "cell_type": "code",
      "source": [
        "def train(train_loader, learn_rate, hidden_dim=256, EPOCHS= 5, model_type=\"GRU\"):\n",
        "    # setting hyperparameter\n",
        "    input_dim = next(iter(train_loader))[0].shape[2]\n",
        "    output_dim = 1\n",
        "    n_layers = 2\n",
        "    \n",
        "    # instantiate model\n",
        "    if model_type == \"GRU\":\n",
        "        model = GRUNet(input_dim, hidden_dim, output_dim, n_layers)\n",
        "    else:\n",
        "        model = LSTMNet(input_dim, hidden_dim, output_dim, n_layers)\n",
        "        \n",
        "    model.to(device)\n",
        "    \n",
        "    # define loss function and optimizer\n",
        "    criterion = nn.MSELoss()\n",
        "    optimizer = torch.optim.Adam(model.parameters(), lr=learn_rate)\n",
        "    \n",
        "    model.train()\n",
        "    print(f\"Starting training of {model_type} model.\")\n",
        "    epoch_times = []\n",
        "    # starting training loop\n",
        "    for epoch in range(1, EPOCHS+1):\n",
        "        start_time = time.time()\n",
        "        h = model.init_hidden(batch_size)\n",
        "        avg_loss = 0\n",
        "        counter = 0\n",
        "        print(f\"test {counter}\")\n",
        "        for x, label in train_loader:\n",
        "            counter += 1\n",
        "            if model_type == \"GRU\":\n",
        "                h = h.data\n",
        "            else:\n",
        "                h = tuple([e.data for e in h])\n",
        "            model.zero_grad()\n",
        "            \n",
        "            out, h = model(x.to(device).float(), h)\n",
        "            loss = criterion(out, label.to(device).float())\n",
        "            loss.backward()\n",
        "            optimizer.step()\n",
        "            avg_loss += loss.item()\n",
        "            if counter%200 == 0:\n",
        "                print(\"Epoch {}......Step: {}/{}....... Average Loss for Epoch: {}\".format(epoch, counter, len(train_loader), avg_loss/counter))\n",
        "        current_time = time.time()\n",
        "        print(\"Epoch {}/{} Done, Total Loss: {}\".format(epoch, EPOCHS, avg_loss/len(train_loader)))\n",
        "        print(\"Total Time Elapsed: {} seconds\".format(str(current_time-start_time)))\n",
        "        epoch_times.append(current_time-start_time)\n",
        "    print(\"Total Training Time: {} seconds\".format(str(sum(epoch_times))))\n",
        "    return model\n",
        "        "
      ],
      "metadata": {
        "id": "XWdWrNnDQt1y"
      },
      "execution_count": 16,
      "outputs": []
    },
    {
      "cell_type": "code",
      "source": [
        "lr = 0.001\n",
        "gru_model = train(train_loader, lr, EPOCHS=20, model_type=\"GRU\")\n",
        "# lstm_model = train(train_loader, lr, EPOCHS=10, model_type=\"LSTM\")"
      ],
      "metadata": {
        "colab": {
          "base_uri": "https://localhost:8080/"
        },
        "id": "Nj3rX0v2QvsF",
        "outputId": "13d2a0e5-cc22-4f92-e26a-551b1d4db554"
      },
      "execution_count": 23,
      "outputs": [
        {
          "output_type": "stream",
          "name": "stdout",
          "text": [
            "Starting training of GRU model.\n",
            "test 0\n",
            "Epoch 1/20 Done, Total Loss: 0.001086689005429345\n",
            "Total Time Elapsed: 15.902952194213867 seconds\n",
            "test 0\n",
            "Epoch 2/20 Done, Total Loss: 4.857717675670264e-05\n",
            "Total Time Elapsed: 15.767722368240356 seconds\n",
            "test 0\n",
            "Epoch 3/20 Done, Total Loss: 3.394303280029056e-05\n",
            "Total Time Elapsed: 15.896449565887451 seconds\n",
            "test 0\n",
            "Epoch 4/20 Done, Total Loss: 2.7152135965584196e-05\n",
            "Total Time Elapsed: 15.88573169708252 seconds\n",
            "test 0\n",
            "Epoch 5/20 Done, Total Loss: 2.2252964433883774e-05\n",
            "Total Time Elapsed: 15.897037267684937 seconds\n",
            "test 0\n",
            "Epoch 6/20 Done, Total Loss: 1.851791752355372e-05\n",
            "Total Time Elapsed: 15.855597972869873 seconds\n",
            "test 0\n",
            "Epoch 7/20 Done, Total Loss: 2.0264946304778872e-05\n",
            "Total Time Elapsed: 15.925801992416382 seconds\n",
            "test 0\n",
            "Epoch 8/20 Done, Total Loss: 1.5282796546850225e-05\n",
            "Total Time Elapsed: 15.845597743988037 seconds\n",
            "test 0\n",
            "Epoch 9/20 Done, Total Loss: 1.3751491499787051e-05\n",
            "Total Time Elapsed: 15.851799964904785 seconds\n",
            "test 0\n",
            "Epoch 10/20 Done, Total Loss: 1.098025895920668e-05\n",
            "Total Time Elapsed: 15.824489831924438 seconds\n",
            "test 0\n",
            "Epoch 11/20 Done, Total Loss: 1.786418617305825e-05\n",
            "Total Time Elapsed: 15.889877319335938 seconds\n",
            "test 0\n",
            "Epoch 12/20 Done, Total Loss: 9.486003811437767e-06\n",
            "Total Time Elapsed: 15.803086996078491 seconds\n",
            "test 0\n",
            "Epoch 13/20 Done, Total Loss: 9.185637192458075e-06\n",
            "Total Time Elapsed: 15.813015222549438 seconds\n",
            "test 0\n",
            "Epoch 14/20 Done, Total Loss: 1.1018662372989042e-05\n",
            "Total Time Elapsed: 15.81550645828247 seconds\n",
            "test 0\n",
            "Epoch 15/20 Done, Total Loss: 1.0381451561368551e-05\n",
            "Total Time Elapsed: 15.809874296188354 seconds\n",
            "test 0\n",
            "Epoch 16/20 Done, Total Loss: 7.844337740040873e-06\n",
            "Total Time Elapsed: 15.786453485488892 seconds\n",
            "test 0\n",
            "Epoch 17/20 Done, Total Loss: 7.953290382009401e-06\n",
            "Total Time Elapsed: 15.764912843704224 seconds\n",
            "test 0\n",
            "Epoch 18/20 Done, Total Loss: 8.747253131049114e-06\n",
            "Total Time Elapsed: 15.87284803390503 seconds\n",
            "test 0\n",
            "Epoch 19/20 Done, Total Loss: 6.637661365365617e-06\n",
            "Total Time Elapsed: 15.822415351867676 seconds\n",
            "test 0\n",
            "Epoch 20/20 Done, Total Loss: 7.395413443892259e-06\n",
            "Total Time Elapsed: 15.806332111358643 seconds\n",
            "Total Training Time: 316.8375027179718 seconds\n"
          ]
        }
      ]
    },
    {
      "cell_type": "code",
      "source": [
        "def evaluate(model, test_x, test_y, label_sc):\n",
        "    model.eval()\n",
        "    start_time = time.time()\n",
        "    inp = torch.from_numpy(np.array(test_x))\n",
        "    labs = torch.from_numpy(np.array(test_y))\n",
        "    h = model.init_hidden(inp.shape[0])\n",
        "    print(f\"device: {device}\")\n",
        "    out, h = model(inp.to(device).float(), h)\n",
        "    outputs = label_sc.inverse_transform(out.cpu().detach().numpy()).reshape(-1)\n",
        "    targets = label_sc.inverse_transform(labs.numpy()).reshape(-1)\n",
        "    print(f\"Evaluation Time: {str(time.time()-start_time)}\")\n",
        "    sMAPE = 0\n",
        "    sMAPE = np.mean(abs(outputs - targets)/(targets+outputs))\n",
        "    print(f\"sMAPE: {sMAPE * 100}\")\n",
        "    return outputs, targets, sMAPE\n"
      ],
      "metadata": {
        "id": "dFqXXVh2bIak"
      },
      "execution_count": 24,
      "outputs": []
    },
    {
      "cell_type": "code",
      "source": [
        "gru_outputs, targets, sMAPE = evaluate(gru_model, test_x, test_y, label_sc)\n"
      ],
      "metadata": {
        "colab": {
          "base_uri": "https://localhost:8080/"
        },
        "id": "nwgQr4ZDQxjj",
        "outputId": "a4690a04-6c17-45e7-eb6e-7fef954316dd"
      },
      "execution_count": 25,
      "outputs": [
        {
          "output_type": "stream",
          "name": "stdout",
          "text": [
            "device: cuda\n",
            "Evaluation Time: 0.48554205894470215\n",
            "sMAPE: 0.47129655543545573\n"
          ]
        }
      ]
    },
    {
      "cell_type": "code",
      "source": [
        "# lstm_outputs, targets, lstm_sMAPE = evaluate(lstm_model, test_x, test_y, label_sc)\n"
      ],
      "metadata": {
        "colab": {
          "base_uri": "https://localhost:8080/"
        },
        "id": "hMGhRgI3pflJ",
        "outputId": "5d78d941-8400-4ff5-d481-a1ca24706c31"
      },
      "execution_count": null,
      "outputs": [
        {
          "output_type": "stream",
          "name": "stdout",
          "text": [
            "device: cuda\n",
            "Evaluation Time: 0.04979276657104492\n",
            "sMAPE: 1.0565729892987483\n"
          ]
        }
      ]
    },
    {
      "cell_type": "code",
      "source": [
        "lookback = 90 #4\n",
        "df1 = pd.DataFrame()\n",
        "df1[\"Date/Time\"] = test_df[lookback:][\"Date/Time\"]\n",
        "df1[\"actual\"] = test_df[lookback:][\"gage_height_ft_sensor_07377754\"]\n",
        "df1[\"pred\"] = gru_outputs\n",
        "df1.to_csv(\"result.csv\")"
      ],
      "metadata": {
        "id": "rQB8OFmMGm7p"
      },
      "execution_count": 26,
      "outputs": []
    },
    {
      "cell_type": "code",
      "source": [
        "### Ploting the outputs\n",
        "import matplotlib.pyplot as plt\n",
        "\n",
        "plt.figure(figsize=(14,10))\n",
        "plt.subplot(2,2,1)\n",
        "plt.plot(targets[-100:], color=\"b\", label=\"Actual\")\n",
        "plt.plot(gru_outputs[-100:], color=\"g\", label=\"Predicted GRU\")\n",
        "# plt.plot(lstm_outputs[-100:], color=\"r\", label=\"Predicted LSTM\")\n",
        "plt.title('Plot for lookback=90')\n",
        "plt.legend()"
      ],
      "metadata": {
        "colab": {
          "base_uri": "https://localhost:8080/",
          "height": 328
        },
        "id": "MPR6ezz-4vsw",
        "outputId": "20daa012-789b-416c-b1ce-56836e02dc8e"
      },
      "execution_count": 27,
      "outputs": [
        {
          "output_type": "execute_result",
          "data": {
            "text/plain": [
              "<matplotlib.legend.Legend at 0x7f6437a94d10>"
            ]
          },
          "metadata": {},
          "execution_count": 27
        },
        {
          "output_type": "display_data",
          "data": {
            "image/png": "[encoded data removed]",
            "text/plain": [
              "<Figure size 1008x720 with 1 Axes>"
            ]
          },
          "metadata": {
            "needs_background": "light"
          }
        }
      ]
    },
    {
      "cell_type": "code",
      "source": [
        "torch.save(gru_model.state_dict(), \"gru_model_lookback90_epoch50\") "
      ],
      "metadata": {
        "id": "4Hi_-uYErCj1"
      },
      "execution_count": 28,
      "outputs": []
    },
    {
      "cell_type": "code",
      "source": [
        "torch.save(gru_model, \"gru_model_lookback90_full+epoch50\")"
      ],
      "metadata": {
        "id": "TOF7DRwjWCyi"
      },
      "execution_count": 29,
      "outputs": []
    },
    {
      "cell_type": "code",
      "source": [
        ""
      ],
      "metadata": {
        "id": "eAbhvtgobg7L"
      },
      "execution_count": null,
      "outputs": []
    }
  ]
}